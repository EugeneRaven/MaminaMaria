{
 "cells": [
  {
   "cell_type": "code",
   "execution_count": null,
   "id": "6a4e57e6-bbcc-4986-bc26-d586dd1b7508",
   "metadata": {},
   "outputs": [],
   "source": [
    "import math\n",
    "import cmath\n",
    "import matplotlib.pyplot as plt\n",
    "import numpy\n",
    "\n",
    "x = float(input()) #будем считать экспоненту\n",
    "\n",
    "def exp(x):\n",
    "    a = 1\n",
    "    s = 1\n",
    "    w = x\n",
    "    for i in range(1, 20):\n",
    "        s += w/a\n",
    "        w = w*x\n",
    "        a = a*(i+1)\n",
    "    return s\n",
    "def truexp(x):\n",
    "    return 2.7182818284**x\n",
    "print(exp(x))\n",
    "\n",
    "y = int(x//1)\n",
    "y = y*10\n",
    "if x >=0:\n",
    "    array = list(range(0,y))\n",
    "else:\n",
    "    array = list(range(y,0))\n",
    "for i in array:\n",
    "    array[i] = array[i]/10\n",
    "value = list(map(exp, array))\n",
    "truevalue = list(map(truexp, array))\n",
    "\n",
    "plt.plot(array, value)\n",
    "plt.plot(array, truevalue)\n",
    "plt.show()"
   ]
  },
  {
   "cell_type": "code",
   "execution_count": null,
   "id": "997638d0-8eda-4ac4-b57b-1cbde174ea36",
   "metadata": {},
   "outputs": [],
   "source": []
  }
 ],
 "metadata": {
  "kernelspec": {
   "display_name": "Python 3 (ipykernel)",
   "language": "python",
   "name": "python3"
  },
  "language_info": {
   "codemirror_mode": {
    "name": "ipython",
    "version": 3
   },
   "file_extension": ".py",
   "mimetype": "text/x-python",
   "name": "python",
   "nbconvert_exporter": "python",
   "pygments_lexer": "ipython3",
   "version": "3.9.7"
  }
 },
 "nbformat": 4,
 "nbformat_minor": 5
}
