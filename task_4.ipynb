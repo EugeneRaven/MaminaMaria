import math
import cmath
import matplotlib.pyplot as plt
import numpy

x = float(input()) #будем считать экспоненту

def exp(x):
    a = 1
    s = 1
    w = x
    for i in range(1, 20):
        s += w/a
        w = w*x
        a = a*(i+1)
    return s
def truexp(x):
    return 2.7182818284**x
print(exp(x))

y = int(x//1)
y = y*10
if x >=0:
    array = list(range(0,y))
else:
    array = list(range(y,0))
for i in array:
    array[i] = array[i]/10
value = list(map(exp, array))
truevalue = list(map(truexp, array))

plt.plot(array, value)
plt.plot(array, truevalue)
plt.show()